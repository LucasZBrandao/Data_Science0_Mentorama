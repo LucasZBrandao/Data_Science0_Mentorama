{
 "cells": [
  {
   "cell_type": "markdown",
   "id": "a85c4f80",
   "metadata": {},
   "source": [
    "### Exercício 1"
   ]
  },
  {
   "cell_type": "code",
   "execution_count": 2,
   "id": "bfedd425",
   "metadata": {},
   "outputs": [],
   "source": [
    "def procurarpar(lista):\n",
    "    numerospares=[]\n",
    "    for num in lista:\n",
    "        if ((num%2)==0):\n",
    "            numerospares.append(num)\n",
    "            \n",
    "    return numerospares"
   ]
  },
  {
   "cell_type": "code",
   "execution_count": 5,
   "id": "0c98ee24",
   "metadata": {},
   "outputs": [],
   "source": [
    "numerosaleatorios=[1,2,3,4,5]\n",
    "pares=procurarpar(numerosaleatorios)"
   ]
  },
  {
   "cell_type": "code",
   "execution_count": 6,
   "id": "67c64f37",
   "metadata": {},
   "outputs": [
    {
     "data": {
      "text/plain": [
       "[2, 4]"
      ]
     },
     "execution_count": 6,
     "metadata": {},
     "output_type": "execute_result"
    }
   ],
   "source": [
    "pares"
   ]
  },
  {
   "cell_type": "markdown",
   "id": "e3e3ec9c",
   "metadata": {},
   "source": [
    "### Exercício 2"
   ]
  },
  {
   "cell_type": "code",
   "execution_count": 37,
   "id": "01a65d4e",
   "metadata": {},
   "outputs": [
    {
     "name": "stdout",
     "output_type": "stream",
     "text": [
      "Digite a quantidade de sorteios a se fazer para números inteiros entre 0 e 1000:1\n",
      "os números são:\n",
      "601\n"
     ]
    }
   ],
   "source": [
    "import random as rd\n",
    "try:\n",
    "    quantdesorteios = int(input(\"Digite a quantidade de sorteios a se fazer para números inteiros entre 0 e 1000:\"))\n",
    "    if quantdesorteios == 0:\n",
    "        print(\"Digite um número diferente de zero para que haja sorteio!\")\n",
    "    else:\n",
    "        print(\"os números são:\")\n",
    "        i = 0\n",
    "        while i<quantdesorteios:\n",
    "            x = rd.randrange(0,1001)\n",
    "            print(x)\n",
    "            i+=1  \n",
    "        \n",
    "except ValueError:\n",
    "    print(\"Você só pode por números inteiros aqui!\")"
   ]
  },
  {
   "cell_type": "markdown",
   "id": "70010f81",
   "metadata": {},
   "source": [
    "### Exercício 3"
   ]
  },
  {
   "cell_type": "code",
   "execution_count": 103,
   "id": "5d518141",
   "metadata": {},
   "outputs": [],
   "source": [
    "class Cliente:\n",
    "    def __init__(self,nome):\n",
    "        self.nome = nome\n",
    "        self.saldo = 0\n",
    "    def depositar(self,valor):\n",
    "        if valor>=0:\n",
    "            self.saldo += valor\n",
    "            print(\"Seu saldo atual é de\",self.saldo,\"reais.\")\n",
    "        else:\n",
    "            print(\"Operação impossível, valor digitado é negativo\")\n",
    "        \n",
    "    def sacar(self,valor):\n",
    "        if valor<=self.saldo and valor>=0:\n",
    "            self.saldo -= valor\n",
    "            print(\"Saque realizado, seu saldo atual é de:\",self.saldo,\"reais.\")\n",
    "        elif valor<0:\n",
    "            print(\"Não é possível realizar essa operação, valor digitado é negativo.\")\n",
    "        else:\n",
    "            print(\"Não é possível realizar essa operação, saldo insuficiente.\")"
   ]
  },
  {
   "cell_type": "code",
   "execution_count": 104,
   "id": "0090442d",
   "metadata": {},
   "outputs": [],
   "source": [
    "cliente1 = Cliente(\"Lucas\")"
   ]
  },
  {
   "cell_type": "code",
   "execution_count": 105,
   "id": "7f0d1567",
   "metadata": {},
   "outputs": [
    {
     "data": {
      "text/plain": [
       "0"
      ]
     },
     "execution_count": 105,
     "metadata": {},
     "output_type": "execute_result"
    }
   ],
   "source": [
    "cliente1.saldo"
   ]
  },
  {
   "cell_type": "code",
   "execution_count": 106,
   "id": "52c63b57",
   "metadata": {},
   "outputs": [
    {
     "name": "stdout",
     "output_type": "stream",
     "text": [
      "Seu saldo atual é de 100 reais.\n"
     ]
    }
   ],
   "source": [
    "cliente1.depositar(100)"
   ]
  },
  {
   "cell_type": "code",
   "execution_count": 107,
   "id": "00f64295",
   "metadata": {},
   "outputs": [
    {
     "data": {
      "text/plain": [
       "100"
      ]
     },
     "execution_count": 107,
     "metadata": {},
     "output_type": "execute_result"
    }
   ],
   "source": [
    "cliente1.saldo"
   ]
  },
  {
   "cell_type": "code",
   "execution_count": 108,
   "id": "c69e729e",
   "metadata": {},
   "outputs": [
    {
     "name": "stdout",
     "output_type": "stream",
     "text": [
      "Saque realizado, seu saldo atual é de: 80 reais.\n"
     ]
    }
   ],
   "source": [
    "cliente1.sacar(20)"
   ]
  },
  {
   "cell_type": "code",
   "execution_count": 109,
   "id": "0b2f46a2",
   "metadata": {},
   "outputs": [
    {
     "name": "stdout",
     "output_type": "stream",
     "text": [
      "Não é possível realizar essa operação, saldo insuficiente.\n"
     ]
    }
   ],
   "source": [
    "cliente1.sacar(300)"
   ]
  },
  {
   "cell_type": "code",
   "execution_count": 112,
   "id": "934e2726",
   "metadata": {},
   "outputs": [
    {
     "name": "stdout",
     "output_type": "stream",
     "text": [
      "Não é possível realizar essa operação, valor digitado é negativo.\n"
     ]
    }
   ],
   "source": [
    "cliente1.sacar(-30)"
   ]
  },
  {
   "cell_type": "code",
   "execution_count": 113,
   "id": "6eefadc0",
   "metadata": {},
   "outputs": [
    {
     "name": "stdout",
     "output_type": "stream",
     "text": [
      "Operação impossível, valor digitado é negativo\n"
     ]
    }
   ],
   "source": [
    "cliente1.depositar(-30)"
   ]
  },
  {
   "cell_type": "code",
   "execution_count": null,
   "id": "8d4b07ba",
   "metadata": {},
   "outputs": [],
   "source": []
  }
 ],
 "metadata": {
  "kernelspec": {
   "display_name": "Python 3",
   "language": "python",
   "name": "python3"
  },
  "language_info": {
   "codemirror_mode": {
    "name": "ipython",
    "version": 3
   },
   "file_extension": ".py",
   "mimetype": "text/x-python",
   "name": "python",
   "nbconvert_exporter": "python",
   "pygments_lexer": "ipython3",
   "version": "3.8.8"
  }
 },
 "nbformat": 4,
 "nbformat_minor": 5
}
