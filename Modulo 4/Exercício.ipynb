{
 "cells": [
  {
   "cell_type": "markdown",
   "id": "5d3426ad",
   "metadata": {},
   "source": [
    "### Exercício 1"
   ]
  },
  {
   "cell_type": "code",
   "execution_count": 1,
   "id": "2bf350e1",
   "metadata": {},
   "outputs": [],
   "source": [
    "# importanto o sqlite3\n",
    "import sqlite3\n",
    "\n",
    "# Criando/conectando ao banco de dados:\n",
    "\n",
    "conn = sqlite3.connect(\"modulo4.db\") \n",
    "cursor = conn.cursor() \n",
    "\n",
    "# Criar tabela 1:\n",
    "\n",
    "cursor.execute(\"CREATE TABLE dados_cadastrais (Id integer, nome text, sobrenome text, data_nasci integer, cpf integer, endereco text)\");\n",
    "\n",
    "\n",
    "# Criar tabela 2:\n",
    "cursor.execute(\"CREATE TABLE dados_profissionais (Id integer, graduacao text, cargo text, salario float, tempo_casa integer)\");"
   ]
  },
  {
   "cell_type": "code",
   "execution_count": 2,
   "id": "65a84c4e",
   "metadata": {},
   "outputs": [
    {
     "data": {
      "text/plain": [
       "[(1, 'maria', 'silva', 0, 11111211313, 'rua 1 - SP'),\n",
       " (2, 'joao', 'silva', 0, 11111211889, 'rua 2 - SP'),\n",
       " (3, 'pedro', 'pereira', 0, 11111211786, 'rua 8 - SP'),\n",
       " (4, 'paulo', 'ribeiro', 0, 11111211123, 'rua 9 - SP')]"
      ]
     },
     "execution_count": 2,
     "metadata": {},
     "output_type": "execute_result"
    }
   ],
   "source": [
    "# Inserir dados na tabela 1:\n",
    "\n",
    "cursor.execute(\"INSERT INTO dados_cadastrais VALUES(1, 'maria', 'silva', 0, 11111211313, 'rua 1 - SP')\") \n",
    "cursor.execute(\"INSERT INTO dados_cadastrais VALUES(2, 'joao', 'silva', 0, 11111211889, 'rua 2 - SP')\") \n",
    "cursor.execute(\"INSERT INTO dados_cadastrais VALUES(3, 'pedro', 'pereira', 0, 11111211786, 'rua 8 - SP')\") \n",
    "cursor.execute(\"INSERT INTO dados_cadastrais VALUES(4, 'paulo', 'ribeiro', 0, 11111211123, 'rua 9 - SP')\") \n",
    "\n",
    "conn.commit()\n",
    "\n",
    "# Visualizando a tabela 1:\n",
    "\n",
    "cursor.execute(\"SELECT * FROM dados_cadastrais\")\n",
    "cursor.fetchall()"
   ]
  },
  {
   "cell_type": "code",
   "execution_count": 3,
   "id": "c27b444d",
   "metadata": {},
   "outputs": [
    {
     "data": {
      "text/plain": [
       "[(1, 'matematica', 'professor', 3500.89, 3),\n",
       " (2, 'geografia', 'orientador', 2850.8, 1),\n",
       " (3, 'historia', 'orientador', 3200.45, 1),\n",
       " (4, 'fisica', 'professor', 1890.33, 2)]"
      ]
     },
     "execution_count": 3,
     "metadata": {},
     "output_type": "execute_result"
    }
   ],
   "source": [
    "# Inserir dados na tabela 2:\n",
    "\n",
    "cursor.execute(\"INSERT INTO dados_profissionais VALUES(1, 'matematica', 'professor', 3500.89, 3)\") \n",
    "cursor.execute(\"INSERT INTO dados_profissionais VALUES(2, 'geografia', 'orientador', 2850.8, 1)\")\n",
    "cursor.execute(\"INSERT INTO dados_profissionais VALUES(3, 'historia', 'orientador', 3200.45, 1)\") \n",
    "cursor.execute(\"INSERT INTO dados_profissionais VALUES(4, 'fisica', 'professor', 1890.33, 2)\")\n",
    "conn.commit()\n",
    "\n",
    "# Visualizando a tabela 2:\n",
    "\n",
    "cursor.execute(\"SELECT * FROM dados_profissionais\")\n",
    "cursor.fetchall()"
   ]
  },
  {
   "cell_type": "markdown",
   "id": "23a957ef",
   "metadata": {},
   "source": [
    "### Exercício 2"
   ]
  },
  {
   "cell_type": "code",
   "execution_count": 4,
   "id": "65ae0c72",
   "metadata": {},
   "outputs": [
    {
     "data": {
      "text/plain": [
       "[(1, 'matematica', 'professor', 3500.89, 3),\n",
       " (4, 'fisica', 'professor', 1890.33, 2),\n",
       " (2, 'geografia', 'orientador', 2850.8, 1),\n",
       " (3, 'historia', 'orientador', 3200.45, 1)]"
      ]
     },
     "execution_count": 4,
     "metadata": {},
     "output_type": "execute_result"
    }
   ],
   "source": [
    "cursor.execute(\"SELECT * FROM dados_profissionais ORDER BY tempo_casa DESC\")\n",
    "cursor.fetchall()"
   ]
  },
  {
   "cell_type": "markdown",
   "id": "a325e97d",
   "metadata": {},
   "source": [
    "### Exercício 3"
   ]
  },
  {
   "cell_type": "code",
   "execution_count": 5,
   "id": "21187a35",
   "metadata": {},
   "outputs": [
    {
     "data": {
      "text/plain": [
       "[(4,)]"
      ]
     },
     "execution_count": 5,
     "metadata": {},
     "output_type": "execute_result"
    }
   ],
   "source": [
    "cursor.execute(\"SELECT COUNT(Id) FROM dados_cadastrais\")\n",
    "cursor.fetchall()"
   ]
  },
  {
   "cell_type": "markdown",
   "id": "c930f272",
   "metadata": {},
   "source": [
    "### Exercício 4"
   ]
  },
  {
   "cell_type": "code",
   "execution_count": 6,
   "id": "97e424f4",
   "metadata": {},
   "outputs": [
    {
     "data": {
      "text/plain": [
       "[(2, 'joao', 'silva', 0, 11111211889, 'rua 2 - SP'),\n",
       " (1, 'maria', 'silva', 0, 11111211313, 'rua 1 - SP')]"
      ]
     },
     "execution_count": 6,
     "metadata": {},
     "output_type": "execute_result"
    }
   ],
   "source": [
    "cursor.execute(\"SELECT * FROM dados_cadastrais WHERE sobrenome=='silva' ORDER BY nome,sobrenome\")\n",
    "cursor.fetchall()"
   ]
  },
  {
   "cell_type": "markdown",
   "id": "c38e648f",
   "metadata": {},
   "source": [
    "### Exercício 5"
   ]
  },
  {
   "cell_type": "code",
   "execution_count": 7,
   "id": "15238753",
   "metadata": {},
   "outputs": [
    {
     "data": {
      "text/plain": [
       "[('orientador', 6051.25), ('professor', 5391.219999999999)]"
      ]
     },
     "execution_count": 7,
     "metadata": {},
     "output_type": "execute_result"
    }
   ],
   "source": [
    "cursor.execute(\"SELECT cargo,SUM(salario) FROM dados_profissionais GROUP BY cargo\")\n",
    "cursor.fetchall()"
   ]
  },
  {
   "cell_type": "code",
   "execution_count": null,
   "id": "fb5bdfc9",
   "metadata": {},
   "outputs": [],
   "source": []
  }
 ],
 "metadata": {
  "kernelspec": {
   "display_name": "Python 3",
   "language": "python",
   "name": "python3"
  },
  "language_info": {
   "codemirror_mode": {
    "name": "ipython",
    "version": 3
   },
   "file_extension": ".py",
   "mimetype": "text/x-python",
   "name": "python",
   "nbconvert_exporter": "python",
   "pygments_lexer": "ipython3",
   "version": "3.8.8"
  }
 },
 "nbformat": 4,
 "nbformat_minor": 5
}
